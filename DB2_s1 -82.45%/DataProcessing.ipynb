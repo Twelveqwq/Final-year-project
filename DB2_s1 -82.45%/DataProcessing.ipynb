{
 "cells": [
  {
   "cell_type": "markdown",
   "metadata": {},
   "source": [
    "导入库，数据"
   ]
  },
  {
   "cell_type": "code",
   "execution_count": 1,
   "metadata": {},
   "outputs": [],
   "source": [
    "import scipy.io as spio         #该库用于load MAT文件\n",
    "import numpy as np              #常规数据库\n",
    "import matplotlib.pyplot as plt\n",
    "%matplotlib inline\n",
    "import random"
   ]
  },
  {
   "cell_type": "code",
   "execution_count": 2,
   "metadata": {},
   "outputs": [
    {
     "name": "stdout",
     "output_type": "stream",
     "text": [
      "dict_keys(['__header__', '__version__', '__globals__', 'emg', 'acc', 'stimulus', 'glove', 'inclin', 'subject', 'exercise', 'repetition', 'restimulus', 'rerepetition'])\n"
     ]
    }
   ],
   "source": [
    "emgE1=spio.loadmat('S1_E1_A1.mat')\n",
    "emgE2=spio.loadmat('S1_E2_A1.mat')\n",
    "emgE3=spio.loadmat('S1_E3_A1.mat')\n",
    "print(emgE1.keys())"
   ]
  },
  {
   "cell_type": "markdown",
   "metadata": {},
   "source": [
    "整合一个受试者数据的函数（将三个动作组和标签整合到一起，并去除休息片段）"
   ]
  },
  {
   "cell_type": "code",
   "execution_count": 3,
   "metadata": {},
   "outputs": [],
   "source": [
    "def extractData(emgE1,emgE2,emgE3):\n",
    "    #提取对应的标签数据\n",
    "    label1=emgE1['restimulus']\n",
    "    label2=emgE2['restimulus']\n",
    "    label3=emgE3['restimulus']\n",
    "\n",
    "    #提取三个Exercise的emg信号数据\n",
    "    emg1=emgE1['emg']\n",
    "    emg2=emgE2['emg']\n",
    "    emg3=emgE3['emg']\n",
    "\n",
    "    #创建空实例，用来存储动作数据\n",
    "    E1=[]\n",
    "    E2=[]\n",
    "    E3=[]\n",
    "    L1=[]\n",
    "    L2=[]\n",
    "    L3=[]\n",
    "\n",
    "    #将休息片段（即：标签数据为0的部分）去除，只保留动作\n",
    "    #每个动作组的长度不一致，单独创建循环\n",
    "\n",
    "    for i in range(len(label1)):\n",
    "        if label1[i] != 0:\n",
    "            E1.append(emg1[i,:])\n",
    "            L1.append(label1[i,:])\n",
    "    E1=np.array(E1)                 #将list转换成array\n",
    "    L1=np.array(L1)                 #将list转换成array\n",
    "\n",
    "    for i in range(len(label2)):\n",
    "        if label2[i] != 0:\n",
    "            E2.append(emg2[i,:])\n",
    "            L2.append(label2[i,:])\n",
    "    E2=np.array(E2)\n",
    "    L2=np.array(L2)\n",
    "\n",
    "    for i in range(len(label3)):\n",
    "        if label3[i] != 0:\n",
    "            E3.append(emg3[i,:])\n",
    "            L3.append(label3[i,:])\n",
    "    E3=np.array(E3)\n",
    "    L3=np.array(L3)\n",
    "\n",
    "    #将三组动作整合成一个，标签也一样，并将标签的数值从0开始，一共49个动作\n",
    "    EMG = np.vstack((E1,E2,E3))\n",
    "    LABEL = np.vstack((L1,L2,L3))\n",
    "    LABEL = LABEL - 1 \n",
    "    return EMG, LABEL"
   ]
  },
  {
   "cell_type": "code",
   "execution_count": 5,
   "metadata": {},
   "outputs": [
    {
     "name": "stdout",
     "output_type": "stream",
     "text": [
      "(2397479, 12)\n",
      "(2397479, 1)\n",
      "[-1.9836700e-06 -1.2466978e-06  6.7001649e-09  3.8566882e-06\n",
      "  3.4793222e-06 -1.1702260e-06  4.2410911e-06 -1.1763063e-05\n",
      "  2.8292520e-06 -1.4126642e-06  1.9579038e-06 -2.2692848e-05]\n"
     ]
    },
    {
     "data": {
      "text/plain": [
       "[<matplotlib.lines.Line2D at 0x2dc3d9ff260>]"
      ]
     },
     "execution_count": 5,
     "metadata": {},
     "output_type": "execute_result"
    },
    {
     "data": {
      "image/png": "[encoded data removed]",
      "text/plain": [
       "<Figure size 640x480 with 1 Axes>"
      ]
     },
     "metadata": {},
     "output_type": "display_data"
    }
   ],
   "source": [
    "#打印数据形状\n",
    "EMG,LABEL=extractData(emgE1,emgE2,emgE3)\n",
    "print(EMG.shape)\n",
    "print(LABEL.shape)\n",
    "print(EMG[1,:])\n",
    "plt.plot(LABEL)"
   ]
  },
  {
   "cell_type": "markdown",
   "metadata": {},
   "source": [
    "定义时域特征计算函数，为了保证提取特征的连续性，采用时间窗方法"
   ]
  },
  {
   "cell_type": "code",
   "execution_count": null,
   "metadata": {},
   "outputs": [
    {
     "name": "stdout",
     "output_type": "stream",
     "text": [
      "[[ 0]\n",
      " [ 0]\n",
      " [ 0]\n",
      " ...\n",
      " [48]\n",
      " [48]\n",
      " [48]]\n"
     ]
    }
   ],
   "source": [
    "print(LABEL)"
   ]
  },
  {
   "cell_type": "code",
   "execution_count": null,
   "metadata": {},
   "outputs": [],
   "source": [
    "#window_size：时间窗长度 W，increment: 增量窗 T，重合率 = (W-T)/T\n",
    "#K时刻时间窗的尾端和K+1时刻时间窗的尾端之差等于T\n",
    "#e.g：\n",
    "#window_size = 200\n",
    "#increment = 50\n",
    "\n",
    "#wflength-80%，waveform length\n",
    "#WL波形长度通常是指在一定时间范围内，信号波形的总长度或复杂度。\n",
    "#在计算 WL 时，通常关注的是信号的变化量。\n",
    "def FeatureWl(data):\n",
    "    #用np.diff计算单通道，后一个数减前一个数的差值\n",
    "    #再用np.abs求绝对值\n",
    "    #最后用np.sum求和\n",
    "    return np.sum(np.abs(np.diff(data,axis = 0)),axis = 0)\n",
    "\n",
    "#MAV平均绝对值，关注信号的平均振幅\n",
    "def FeatureMav(data):\n",
    "    #axis=0表示从第0个通道开始对每个通道所有时间点的绝对值取平均\n",
    "    #如果data形状为(200,12)，输出为(1,12)，200个时间点12个通道的数据被压缩成了一行\n",
    "    return np.mean(np.abs(data), axis=0)\n",
    "\n",
    "#var-79%\n",
    "#VAR方差\n",
    "def FeatureVar(data):\n",
    "    #使用样本方差，因为特征提取是针对一组样本数据进行，而不是总体，能更好地反映样本数据的分布情况\n",
    "    window_size = data.shape[0]\n",
    "    #(data - np.mean(data,axis=0))**2: 对每个通道的单个数据减去平均，然后乘平方。数据形状不变\n",
    "    #np.sum(......, axis=0)：对每个通道的数据求和\n",
    "    vari = np.sum((data - np.mean(data,axis=0))**2, axis=0)\n",
    "    return (vari / (window_size - 1))\n",
    "\n",
    "def FeatureSSC(data, threshold=10e-7):\n",
    "    delta = np.flip(np.diff(np.flip(data, axis=0), axis=0)[:-1], axis=0) * \\\n",
    "            np.diff(data, axis=0)[:-1]\n",
    "    return np.sum(np.where(delta >= threshold, 1.0, 0.), axis=0)\n",
    "\n",
    "def FeatureZC(data, threshold=10e-7):\n",
    "    abs_diff = np.abs(np.diff(data, axis=0))\n",
    "    sign = np.diff(np.sign(data), axis=0)\n",
    "    log = np.logical_and(sign != 0, abs_diff > threshold)\n",
    "    return np.sum(log, axis=0)\n",
    "\n",
    "\n",
    "#skewness偏度\n",
    "def FeatureSkewness(data):\n",
    "    window_size = data.shape[0]\n",
    "    # 计算均值\n",
    "    mean = np.mean(data, axis=0)\n",
    "    # 计算标准差\n",
    "    vari = np.sum((data - np.mean(data,axis=0))**2, axis=0)\n",
    "    vari= (vari / (window_size - 1))\n",
    "    std_dev = np.sqrt(vari)\n",
    "    # 计算偏度\n",
    "    skewness = (np.sum((data - mean)**3, axis=0)) / (window_size * (std_dev**3))\n",
    "    return skewness\n"
   ]
  },
  {
   "cell_type": "code",
   "execution_count": null,
   "metadata": {},
   "outputs": [],
   "source": [
    "#window_size：时间窗长度 W，increment: 增量窗 T，重合率 = (W-T)/T\n",
    "#K时刻时间窗的尾端和K+1时刻时间窗的尾端之差等于T\n",
    "#e.g：\n",
    "#window_size = 200\n",
    "#increment = 0\n",
    "\n",
    "#时域特征提取函数：（标签与数据一起）\n",
    "#将数据按照时间窗和增量窗分成n个segment，segment含12通道，形状e.g.(200,12)\n",
    "#每个segment都放进六个特征提取函数中得到六个(1,12)的数据，\n",
    "#使用hstack组合六种特征数据，得到(1,72)\n",
    "#每一轮储存seg，最后的特征数据形状应该是（n,72）\n",
    "\n",
    "def extract_features(data, label, window_size, increment, k):\n",
    "    featureData=[]\n",
    "    featureLabel=[]\n",
    "    #得到每个维度数据长度\n",
    "    datalength = data.shape[0]\n",
    "    #设置时间窗和步长\n",
    "    timeWindow = window_size\n",
    "    strideWindow = window_size - increment\n",
    "    \n",
    "    #为了保证数据的相关性，遍历类别，对每个类别执行操作\n",
    "    #如：姿势1的emg信号与姿势2的分开进行图像化处理\n",
    "    #以此防止干扰模型的判断  \n",
    "    #在k个动作中，按循环，将每个动作的emg信号单独提取出来进行时间窗特征处理\n",
    "    for i in range(k):\n",
    "        index = []\n",
    "        for j in range(datalength):\n",
    "            if (label[j] == i):\n",
    "                index.append(j)\n",
    "        seg_emg = data[index,:]\n",
    "        #计算每个动作能提取的时间窗数量\n",
    "        #剔除每个动作结束阶段的窗口数据\n",
    "        #是因为该部分可能包含姿势变换期间产生的非典型EMG信号，导致数据可靠性存疑。\n",
    "        num_windows = (seg_emg.shape[0] - timeWindow) // strideWindow \n",
    "        \n",
    "        #对数量进行循环提取出时间窗大小的数据进行特征计算\n",
    "        for j in range(num_windows):\n",
    "            #时间窗数据点的开头和结尾\n",
    "            initial = strideWindow*j\n",
    "            end = initial + timeWindow\n",
    "            #计算特征\n",
    "            wl   = FeatureWl(seg_emg[initial:end,:])\n",
    "            mav  = FeatureMav(seg_emg[initial:end,:])\n",
    "            var  = FeatureVar(seg_emg[initial:end,:])\n",
    "            ssc  = FeatureSSC(seg_emg[initial:end,:])\n",
    "            zc  = FeatureZC(seg_emg[initial:end,:])\n",
    "            skew = FeatureSkewness(seg_emg[initial:end,:])\n",
    "            #将特征数据水平堆叠起来\n",
    "            feature = np.hstack((wl,mav,var,ssc,zc,skew))\n",
    "            #储存特征数据和对应标签至列表\n",
    "            featureData.append(feature)\n",
    "            featureLabel.append(i)\n",
    "        \n",
    "    #将特征数据转化为数组\n",
    "    featureData = np.array(featureData)\n",
    "    featureLabel = np.array(featureLabel)\n",
    "    featureLabel = featureLabel.reshape(-1, 1)\n",
    "    #返还特征数据和特征标签\n",
    "    return featureData, featureLabel"
   ]
  },
  {
   "cell_type": "markdown",
   "metadata": {},
   "source": [
    "转化为图像数据"
   ]
  },
  {
   "cell_type": "code",
   "execution_count": null,
   "metadata": {},
   "outputs": [],
   "source": [
    "def getImage(data,label,image_length,k):\n",
    "    #初始化数据结构\n",
    "    imageData=[]\n",
    "    imageLabel=[]\n",
    "    length = image_length\n",
    "    datalength=label.shape[0]\n",
    "    \n",
    "    #原始数据准备, 将数据放大以便分析\n",
    "    data = data*20000\n",
    "            \n",
    "    #为了保证数据的相关性，遍历类别，对每个类别执行操作\n",
    "    #如：姿势1的emg信号与姿势2的分开进行图像化处理\n",
    "    #以此防止干扰模型的判断\n",
    "    for i in range(k):\n",
    "        index = []\n",
    "        for j in range(datalength):\n",
    "            #提取类别特定的样本索引\n",
    "            if (label[j] == i):\n",
    "                index.append(j)\n",
    "        #提取类别特定标签下的EMG数据\n",
    "        seg_emg = data[index,:]\n",
    "        \n",
    "        #计算可提取的图像样本数量\n",
    "        #剔除每个动作结束阶段的窗口数据\n",
    "        #是因为该部分可能包含姿势变换期间产生的非典型EMG信号，导致数据可靠性存疑。\n",
    "        num_windows = (seg_emg.shape[0] - length) // length\n",
    "\n",
    "        #提取图像样本\n",
    "        for j in range(num_windows):\n",
    "            #图像数据点的开头和结尾，单个图像形状为[200,12]\n",
    "            initial = length*j\n",
    "            end = length*(j+1)\n",
    "            #生成图像数据\n",
    "            image = seg_emg[initial:end,:]\n",
    "            #储存图像数据和对应标签至列表\n",
    "            imageData.append(image)\n",
    "            imageLabel.append(i)\n",
    "    \n",
    "    #数据转换\n",
    "    imageData = np.array(imageData)\n",
    "    imageLabel = np.array(imageLabel)\n",
    "    imageLabel = imageLabel.reshape(-1, 1)\n",
    "    return imageData, imageLabel"
   ]
  },
  {
   "cell_type": "code",
   "execution_count": null,
   "metadata": {},
   "outputs": [],
   "source": [
    "image_length=200\n",
    "classes = 49\n",
    "imageData,imageLabel = getImage(EMG,LABEL,image_length,classes)"
   ]
  },
  {
   "cell_type": "code",
   "execution_count": null,
   "metadata": {},
   "outputs": [
    {
     "name": "stdout",
     "output_type": "stream",
     "text": [
      "(11914, 200, 12)\n",
      "(11914, 1)\n",
      "[[ 0]\n",
      " [ 0]\n",
      " [ 0]\n",
      " ...\n",
      " [48]\n",
      " [48]\n",
      " [48]]\n"
     ]
    }
   ],
   "source": [
    "print(imageData.shape)\n",
    "print(imageLabel.shape)\n",
    "print(imageLabel)"
   ]
  },
  {
   "cell_type": "code",
   "execution_count": null,
   "metadata": {},
   "outputs": [],
   "source": [
    "import h5py\n",
    "#file = h5py.File('DB2_S2_feature_200_0.h5','w')  \n",
    "#file.create_dataset('featureData', data = featureData)  \n",
    "#file.create_dataset('featureLabel', data = featureLabel)  \n",
    "#file.close()  \n",
    "\n",
    "file = h5py.File('DB2_S1_image_200_0.h5','w')  \n",
    "file.create_dataset('imageData', data = imageData)  \n",
    "file.create_dataset('imageLabel', data = imageLabel)  \n",
    "file.close()  \n"
   ]
  },
  {
   "cell_type": "code",
   "execution_count": null,
   "metadata": {},
   "outputs": [],
   "source": []
  }
 ],
 "metadata": {
  "kernelspec": {
   "display_name": "Python 3 (ipykernel)",
   "language": "python",
   "name": "python3"
  },
  "language_info": {
   "codemirror_mode": {
    "name": "ipython",
    "version": 3
   },
   "file_extension": ".py",
   "mimetype": "text/x-python",
   "name": "python",
   "nbconvert_exporter": "python",
   "pygments_lexer": "ipython3",
   "version": "3.12.2"
  }
 },
 "nbformat": 4,
 "nbformat_minor": 4
}
