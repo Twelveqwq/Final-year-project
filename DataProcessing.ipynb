{
 "cells": [
  {
   "cell_type": "markdown",
   "metadata": {},
   "source": [
    "导入库，数据"
   ]
  },
  {
   "cell_type": "code",
   "execution_count": 1,
   "metadata": {},
   "outputs": [],
   "source": [
    "import scipy.io as spio         #该库用于load MAT文件\n",
    "import numpy as np              #常规数据库\n",
    "import matplotlib.pyplot as plt\n",
    "%matplotlib inline\n",
    "import random"
   ]
  },
  {
   "cell_type": "code",
   "execution_count": 2,
   "metadata": {},
   "outputs": [
    {
     "name": "stdout",
     "output_type": "stream",
     "text": [
      "dict_keys(['__header__', '__version__', '__globals__', 'emg', 'acc', 'stimulus', 'glove', 'inclin', 'subject', 'exercise', 'repetition', 'restimulus', 'rerepetition'])\n"
     ]
    }
   ],
   "source": [
    "emgE1=spio.loadmat('S8_E1_A1.mat')\n",
    "emgE2=spio.loadmat('S8_E2_A1.mat')\n",
    "emgE3=spio.loadmat('S8_E3_A1.mat')\n",
    "print(emgE1.keys())"
   ]
  },
  {
   "cell_type": "markdown",
   "metadata": {},
   "source": [
    "整合一个受试者数据的函数（将三个动作组和标签整合到一起，并去除休息片段）"
   ]
  },
  {
   "cell_type": "code",
   "execution_count": 3,
   "metadata": {},
   "outputs": [],
   "source": [
    "def extractData(emgE1,emgE2,emgE3):\n",
    "    #提取对应的标签数据\n",
    "    label1=emgE1['restimulus']\n",
    "    label2=emgE2['restimulus']\n",
    "    label3=emgE3['restimulus']\n",
    "\n",
    "    #提取三个Exercise的emg信号数据\n",
    "    emg1=emgE1['emg']\n",
    "    emg2=emgE2['emg']\n",
    "    emg3=emgE3['emg']\n",
    "\n",
    "    #创建空实例，用来存储动作数据\n",
    "    E1=[]\n",
    "    E2=[]\n",
    "    E3=[]\n",
    "    L1=[]\n",
    "    L2=[]\n",
    "    L3=[]\n",
    "\n",
    "    #将休息片段（即：标签数据为0的部分）去除，只保留动作\n",
    "    #每个动作组的长度不一致，单独创建循环\n",
    "\n",
    "    for i in range(len(label1)):\n",
    "        if label1[i] != 0:\n",
    "            E1.append(emg1[i,:])\n",
    "            L1.append(label1[i,:])\n",
    "    E1=np.array(E1)                 #将list转换成array\n",
    "    L1=np.array(L1)                 #将list转换成array\n",
    "\n",
    "    for i in range(len(label2)):\n",
    "        if label2[i] != 0:\n",
    "            E2.append(emg2[i,:])\n",
    "            L2.append(label2[i,:])\n",
    "    E2=np.array(E2)\n",
    "    L2=np.array(L2)\n",
    "\n",
    "    for i in range(len(label3)):\n",
    "        if label3[i] != 0:\n",
    "            E3.append(emg3[i,:])\n",
    "            L3.append(label3[i,:])\n",
    "    E3=np.array(E3)\n",
    "    L3=np.array(L3)\n",
    "\n",
    "    #将三组动作整合成一个，标签也一样，并将标签的数值从0开始，一共49个动作\n",
    "    EMG = np.vstack((E1,E2,E3))\n",
    "    LABEL = np.vstack((L1,L2,L3))\n",
    "    LABEL = LABEL - 1 \n",
    "    return EMG, LABEL"
   ]
  },
  {
   "cell_type": "code",
   "execution_count": 4,
   "metadata": {},
   "outputs": [
    {
     "name": "stdout",
     "output_type": "stream",
     "text": [
      "(2610207, 12)\n",
      "(2610207, 1)\n",
      "[ 2.5949983e-05  1.8889290e-07 -4.1185751e-07  2.2581503e-06\n",
      " -3.9826961e-07 -8.3492450e-06  1.7303211e-05 -2.8272721e-06\n",
      " -3.8891358e-06  6.5888016e-06 -3.6520630e-06  2.6888220e-06]\n"
     ]
    },
    {
     "data": {
      "text/plain": [
       "[<matplotlib.lines.Line2D at 0x2376dec9a00>]"
      ]
     },
     "execution_count": 4,
     "metadata": {},
     "output_type": "execute_result"
    },
    {
     "data": {
      "image/png": "[encoded data removed]",
      "text/plain": [
       "<Figure size 640x480 with 1 Axes>"
      ]
     },
     "metadata": {},
     "output_type": "display_data"
    }
   ],
   "source": [
    "#打印数据形状\n",
    "EMG,LABEL=extractData(emgE1,emgE2,emgE3)\n",
    "print(EMG.shape)\n",
    "print(LABEL.shape)\n",
    "print(EMG[1,:])\n",
    "plt.plot(LABEL)"
   ]
  },
  {
   "cell_type": "markdown",
   "metadata": {},
   "source": [
    "定义时域特征计算函数，为了保证提取特征的连续性，采用时间窗方法"
   ]
  },
  {
   "cell_type": "code",
   "execution_count": 5,
   "metadata": {},
   "outputs": [
    {
     "name": "stdout",
     "output_type": "stream",
     "text": [
      "[[ 0]\n",
      " [ 0]\n",
      " [ 0]\n",
      " ...\n",
      " [48]\n",
      " [48]\n",
      " [48]]\n"
     ]
    }
   ],
   "source": [
    "print(LABEL)"
   ]
  },
  {
   "cell_type": "markdown",
   "metadata": {},
   "source": [
    "转化为图像数据"
   ]
  },
  {
   "cell_type": "code",
   "execution_count": 6,
   "metadata": {},
   "outputs": [],
   "source": [
    "def getImage(data,label,image_length,k):\n",
    "    #初始化数据结构\n",
    "    imageData=[]\n",
    "    imageLabel=[]\n",
    "    length = image_length\n",
    "    datalength=label.shape[0]\n",
    "    \n",
    "    #原始数据准备, 将数据放大以便分析\n",
    "    data = data*20000\n",
    "            \n",
    "    #为了保证数据的相关性，遍历类别，对每个类别执行操作\n",
    "    #如：姿势1的emg信号与姿势2的分开进行图像化处理\n",
    "    #以此防止干扰模型的判断\n",
    "    for i in range(k):\n",
    "        index = []\n",
    "        for j in range(datalength):\n",
    "            #提取类别特定的样本索引\n",
    "            if (label[j] == i):\n",
    "                index.append(j)\n",
    "        #提取类别特定标签下的EMG数据\n",
    "        seg_emg = data[index,:]\n",
    "        \n",
    "        #计算可提取的图像样本数量\n",
    "        #剔除每个动作结束阶段的窗口数据\n",
    "        #是因为该部分可能包含姿势变换期间产生的非典型EMG信号，导致数据可靠性存疑。\n",
    "        num_windows = (seg_emg.shape[0] - length) // length\n",
    "\n",
    "        #提取图像样本\n",
    "        for j in range(num_windows):\n",
    "            #图像数据点的开头和结尾，单个图像形状为[200,12]\n",
    "            initial = length*j\n",
    "            end = length*(j+1)\n",
    "            #生成图像数据\n",
    "            image = seg_emg[initial:end,:]\n",
    "            #储存图像数据和对应标签至列表\n",
    "            imageData.append(image)\n",
    "            imageLabel.append(i)\n",
    "    \n",
    "    #数据转换\n",
    "    imageData = np.array(imageData)\n",
    "    imageLabel = np.array(imageLabel)\n",
    "    imageLabel = imageLabel.reshape(-1, 1)\n",
    "    return imageData, imageLabel"
   ]
  },
  {
   "cell_type": "code",
   "execution_count": 7,
   "metadata": {},
   "outputs": [],
   "source": [
    "image_length=200\n",
    "classes = 49\n",
    "imageData,imageLabel = getImage(EMG,LABEL,image_length,classes)"
   ]
  },
  {
   "cell_type": "code",
   "execution_count": 8,
   "metadata": {},
   "outputs": [
    {
     "name": "stdout",
     "output_type": "stream",
     "text": [
      "(12980, 200, 12)\n",
      "(12980, 1)\n",
      "[[ 0]\n",
      " [ 0]\n",
      " [ 0]\n",
      " ...\n",
      " [48]\n",
      " [48]\n",
      " [48]]\n"
     ]
    }
   ],
   "source": [
    "print(imageData.shape)\n",
    "print(imageLabel.shape)\n",
    "print(imageLabel)"
   ]
  },
  {
   "cell_type": "code",
   "execution_count": 9,
   "metadata": {},
   "outputs": [],
   "source": [
    "import h5py\n",
    "#file = h5py.File('DB2_S2_feature_200_0.h5','w')  \n",
    "#file.create_dataset('featureData', data = featureData)  \n",
    "#file.create_dataset('featureLabel', data = featureLabel)  \n",
    "#file.close()  \n",
    "\n",
    "file = h5py.File('DB2_S8_image_200_0.h5','w')  \n",
    "file.create_dataset('imageData', data = imageData)  \n",
    "file.create_dataset('imageLabel', data = imageLabel)  \n",
    "file.close()  \n"
   ]
  },
  {
   "cell_type": "code",
   "execution_count": null,
   "metadata": {},
   "outputs": [],
   "source": []
  }
 ],
 "metadata": {
  "kernelspec": {
   "display_name": "Python 3 (ipykernel)",
   "language": "python",
   "name": "python3"
  },
  "language_info": {
   "codemirror_mode": {
    "name": "ipython",
    "version": 3
   },
   "file_extension": ".py",
   "mimetype": "text/x-python",
   "name": "python",
   "nbconvert_exporter": "python",
   "pygments_lexer": "ipython3",
   "version": "3.12.2"
  }
 },
 "nbformat": 4,
 "nbformat_minor": 4
}
